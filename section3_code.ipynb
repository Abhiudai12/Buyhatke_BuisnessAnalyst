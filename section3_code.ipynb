{
  "nbformat": 4,
  "nbformat_minor": 0,
  "metadata": {
    "colab": {
      "provenance": []
    },
    "kernelspec": {
      "name": "python3",
      "display_name": "Python 3"
    },
    "language_info": {
      "name": "python"
    }
  },
  "cells": [
    {
      "cell_type": "code",
      "execution_count": 4,
      "metadata": {
        "id": "wE6PoHW5EsjF"
      },
      "outputs": [],
      "source": [
        "import pandas as pd\n",
        "\n",
        "# Load your dataset\n",
        "df = pd.read_csv('/content/sample-data-audio - 2-months.csv')\n",
        "\n",
        "# Convert date to datetime objects for time-based analysis\n",
        "df['date'] = pd.to_datetime(df['date'])"
      ]
    },
    {
      "cell_type": "code",
      "source": [
        "print(df.columns)"
      ],
      "metadata": {
        "colab": {
          "base_uri": "https://localhost:8080/"
        },
        "id": "1QvEwyB0Gkby",
        "outputId": "fb0942e9-b696-4ec5-adad-bb0e7dd464a1"
      },
      "execution_count": 12,
      "outputs": [
        {
          "output_type": "stream",
          "name": "stdout",
          "text": [
            "Index(['date', 'user', 'pos_id', 'pos_name', 'product_id', 'product_name',\n",
            "       'generic_name', 'brand', 'gender_name', 'level1_name', 'level2_name',\n",
            "       'level3_name', 'pincode', 'city', 'state', 'country', 'price',\n",
            "       'male_score', 'age<25_score', 'age25-40_score', 'age40+_score'],\n",
            "      dtype='object')\n"
          ]
        }
      ]
    },
    {
      "cell_type": "markdown",
      "source": [
        "Defining my Weights"
      ],
      "metadata": {
        "id": "n-cnceyoFd44"
      }
    },
    {
      "cell_type": "code",
      "source": [
        "GENDER_WEIGHTS = {\n",
        "    'gaming': 1.5,      # Male\n",
        "    'headset': 1.5,     # Male\n",
        "    'pink': -2.0,       # Female (using negative for the other gender)\n",
        "    'rose gold': -2.0   # Female\n",
        "}\n",
        "\n",
        "AGE_WEIGHTS = {\n",
        "    # Word -> (<25 score, 25-40 score, 40+ score)\n",
        "    'gaming': (2.0, 0, 0),\n",
        "    'portable': (0, 1.0, 0),\n",
        "    'amplifier': (0, 0, 2.5),\n",
        "    'audiophile': (0, 0, 3.0)\n",
        "}"
      ],
      "metadata": {
        "id": "ayUFrGirFWc7"
      },
      "execution_count": 5,
      "outputs": []
    },
    {
      "cell_type": "markdown",
      "source": [
        "Applying Product Weights"
      ],
      "metadata": {
        "id": "CfajXjuSF0a4"
      }
    },
    {
      "cell_type": "code",
      "source": [
        "def assign_product_scores(row):\n",
        "    # Initializing scores for this single transaction\n",
        "    male_score = 0\n",
        "    age_under_25_score = 0\n",
        "    age_25_40_score = 0\n",
        "    age_over_40_score = 0\n",
        "\n",
        "    product_name = row['product_name'].lower()\n",
        "\n",
        "    # Gender scoring\n",
        "    for keyword, weight in GENDER_WEIGHTS.items():\n",
        "        if keyword in product_name:\n",
        "            male_score += weight\n",
        "\n",
        "    # Age scoring\n",
        "    for keyword, weights in AGE_WEIGHTS.items():\n",
        "        if keyword in product_name:\n",
        "            age_under_25_score += weights[0]\n",
        "            age_25_40_score += weights[1]\n",
        "            age_over_40_score += weights[2]\n",
        "\n",
        "    return male_score, age_under_25_score, age_25_40_score, age_over_40_score\n",
        "\n",
        "# Applying the function to each row\n",
        "df[['male_score', 'age<25_score', 'age25-40_score', 'age40+_score']] = df.apply(assign_product_scores, axis=1, result_type='expand')"
      ],
      "metadata": {
        "id": "dxPPaUWGF241"
      },
      "execution_count": 6,
      "outputs": []
    },
    {
      "cell_type": "code",
      "source": [
        "# Group by user and sum up all their scores\n",
        "user_scores = df.groupby('user')[['male_score', 'age<25_score', 'age25-40_score', 'age40+_score']].sum()"
      ],
      "metadata": {
        "id": "KTeKNA3ZGLyu"
      },
      "execution_count": 9,
      "outputs": []
    },
    {
      "cell_type": "markdown",
      "source": [
        " Classifying Users"
      ],
      "metadata": {
        "id": "dlvWJOKBG9nU"
      }
    },
    {
      "cell_type": "code",
      "source": [
        "# Classify Gender\n",
        "user_scores['predicted_gender'] = user_scores['male_score'].apply(lambda x: 'Male' if x > 0 else 'Female')\n",
        "\n",
        "# Classify Age Group\n",
        "age_cols = ['age<25_score', 'age25-40_score', 'age40+_score']\n",
        "user_scores['predicted_age_group'] = user_scores[age_cols].idxmax(axis=1)\n",
        "\n",
        "# Display the final classification\n",
        "print(user_scores[['predicted_gender', 'predicted_age_group']].head())"
      ],
      "metadata": {
        "colab": {
          "base_uri": "https://localhost:8080/"
        },
        "id": "jhr0czMPG8ua",
        "outputId": "a7532ed1-5b18-4224-a293-23c47cf80d41"
      },
      "execution_count": 10,
      "outputs": [
        {
          "output_type": "stream",
          "name": "stdout",
          "text": [
            "           predicted_gender predicted_age_group\n",
            "user                                           \n",
            "user-1               Female        age<25_score\n",
            "user-10                Male        age<25_score\n",
            "user-100             Female        age<25_score\n",
            "user-1000            Female        age<25_score\n",
            "user-10000           Female      age25-40_score\n"
          ]
        }
      ]
    }
  ]
}